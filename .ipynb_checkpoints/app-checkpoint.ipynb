{
 "cells": [
  {
   "cell_type": "code",
   "execution_count": 1,
   "metadata": {},
   "outputs": [],
   "source": [
    "import numpy as np\n",
    "import jinja2\n",
    "from flask import Flask, request, jsonify, render_template\n",
    "import pickle\n",
    "\n",
    "app = Flask(__name__)\n",
    "\n",
    "model1 = pickle.load(open('ranfor.pkl','rb'))"
   ]
  },
  {
   "cell_type": "code",
   "execution_count": 2,
   "metadata": {},
   "outputs": [
    {
     "name": "stdout",
     "output_type": "stream",
     "text": [
      " * Serving Flask app \"__main__\" (lazy loading)\n",
      " * Environment: production\n",
      "   WARNING: This is a development server. Do not use it in a production deployment.\n",
      "   Use a production WSGI server instead.\n",
      " * Debug mode: off\n"
     ]
    },
    {
     "name": "stderr",
     "output_type": "stream",
     "text": [
      " * Running on http://127.0.0.1:5000/ (Press CTRL+C to quit)\n",
      "127.0.0.1 - - [27/May/2020 23:29:26] \"\u001b[37mGET / HTTP/1.1\u001b[0m\" 200 -\n",
      "127.0.0.1 - - [27/May/2020 23:29:27] \"\u001b[37mGET /static/css/default.css HTTP/1.1\u001b[0m\" 200 -\n",
      "127.0.0.1 - - [27/May/2020 23:29:29] \"\u001b[37mGET /static/css/images/img03.gif HTTP/1.1\u001b[0m\" 200 -\n",
      "127.0.0.1 - - [27/May/2020 23:29:29] \"\u001b[37mGET /static/css/images/img01.gif HTTP/1.1\u001b[0m\" 200 -\n",
      "127.0.0.1 - - [27/May/2020 23:29:29] \"\u001b[37mGET /static/css/images/img07.gif HTTP/1.1\u001b[0m\" 200 -\n",
      "127.0.0.1 - - [27/May/2020 23:29:30] \"\u001b[37mGET /static/css/images/img05.jpg HTTP/1.1\u001b[0m\" 200 -\n",
      "127.0.0.1 - - [27/May/2020 23:29:31] \"\u001b[37mGET /static/css/images/img04.gif HTTP/1.1\u001b[0m\" 200 -\n",
      "127.0.0.1 - - [27/May/2020 23:29:36] \"\u001b[37mGET /about.html HTTP/1.1\u001b[0m\" 200 -\n",
      "127.0.0.1 - - [27/May/2020 23:29:48] \"\u001b[37mGET /home.html HTTP/1.1\u001b[0m\" 200 -\n",
      "127.0.0.1 - - [27/May/2020 23:29:54] \"\u001b[37mGET /about.html HTTP/1.1\u001b[0m\" 200 -\n"
     ]
    }
   ],
   "source": [
    "@app.route('/')\n",
    "def home1():\n",
    "    return render_template('home.html')\n",
    "\n",
    "@app.route('/about.html')\n",
    "def about():\n",
    "    return render_template('about.html')\n",
    "@app.route('/contact.html')\n",
    "def about():\n",
    "    return render_template('contact.html')\n",
    "\n",
    "@app.route('/home.html')\n",
    "def home():\n",
    "    return render_template('home.html')\n",
    "\n",
    "\n",
    "\n",
    "\n",
    "@app.route('/predict_forest_reg',methods=['POST'])\n",
    "def predict_forest_reg():\n",
    "\n",
    "    int_features = [float(x) for x in request.form.values()]\n",
    "    final_features = [np.array(int_features)]\n",
    "    predictionforestreg = model1.predict(final_features)\n",
    "    predictionforestreg=round(predictionforestreg[0],1)\n",
    "    \n",
    "\n",
    "    return render_template('home.html', prediction_text1='The car\\'s price should be {} $'.format(predictionforestreg))\n",
    "\n",
    "if __name__==\"__main__\":\n",
    "     app.run(port=5000, debug=False)\n",
    "    "
   ]
  },
  {
   "cell_type": "code",
   "execution_count": null,
   "metadata": {},
   "outputs": [],
   "source": []
  },
  {
   "cell_type": "code",
   "execution_count": null,
   "metadata": {},
   "outputs": [],
   "source": []
  }
 ],
 "metadata": {
  "kernelspec": {
   "display_name": "Python 3",
   "language": "python",
   "name": "python3"
  },
  "language_info": {
   "codemirror_mode": {
    "name": "ipython",
    "version": 3
   },
   "file_extension": ".py",
   "mimetype": "text/x-python",
   "name": "python",
   "nbconvert_exporter": "python",
   "pygments_lexer": "ipython3",
   "version": "3.7.4"
  }
 },
 "nbformat": 4,
 "nbformat_minor": 2
}
